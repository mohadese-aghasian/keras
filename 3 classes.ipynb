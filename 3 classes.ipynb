{
  "nbformat": 4,
  "nbformat_minor": 0,
  "metadata": {
    "colab": {
      "provenance": []
    },
    "kernelspec": {
      "name": "python3",
      "display_name": "Python 3"
    },
    "language_info": {
      "name": "python"
    },
    "accelerator": "GPU",
    "gpuClass": "standard"
  },
  "cells": [
    {
      "cell_type": "code",
      "execution_count": null,
      "metadata": {
        "id": "rDsbayWlNRvK"
      },
      "outputs": [],
      "source": [
        "import tensorflow as tf\n",
        "import glob\n",
        "from PIL import Image\n",
        "import glob\n",
        "import os\n",
        "import cv2\n",
        "import numpy as np"
      ]
    },
    {
      "cell_type": "code",
      "source": [
        "tf.test.gpu_device_name()"
      ],
      "metadata": {
        "colab": {
          "base_uri": "https://localhost:8080/",
          "height": 35
        },
        "id": "u-VjjZHONlgm",
        "outputId": "eccc696b-9d38-48d0-aaff-3edafcd06885"
      },
      "execution_count": null,
      "outputs": [
        {
          "output_type": "execute_result",
          "data": {
            "text/plain": [
              "'/device:GPU:0'"
            ],
            "application/vnd.google.colaboratory.intrinsic+json": {
              "type": "string"
            }
          },
          "metadata": {},
          "execution_count": 3
        }
      ]
    },
    {
      "cell_type": "code",
      "source": [
        "# for picture ,n in zip(glob.glob('/content/drive/MyDrive/Image/*.png'), range(1,7)):\n",
        "#     my_image= Image.open(picture)\n",
        "#     for i in range(1,5):\n",
        "#         rotated = my_image.rotate(i * 90)\n",
        "#         rotated.save(f\"/content/drive/MyDrive/IMage/test{n}{i}.png\")\n",
        "\n",
        "# for picture ,n in zip(glob.glob('/content/drive/MyDrive/IMage/*.png'), range(1,25)):\n",
        "#     img= Image.open(picture)\n",
        "#     img2=img.convert('RGBA')\n",
        "#     for i in range(1,11):\n",
        "#         rot = img2.rotate(i*36, expand=1)\n",
        "# # a white image same size as rotated image\n",
        "#         fff = Image.new('RGBA', rot.size, (255,)*4)\n",
        "# # create a composite image using the alpha layer of rot as a mask\n",
        "#         out = Image.composite(rot, fff, rot)\n",
        "# # save your work (converting back to mode='1' or whatever..)\n",
        "#         out.convert(img.mode).save(f\"/content/drive/MyDrive/IMage/test{n}-t{i}.png\")\n",
        "        "
      ],
      "metadata": {
        "id": "IFeZmNM4aSHW"
      },
      "execution_count": null,
      "outputs": []
    },
    {
      "cell_type": "code",
      "source": [
        "my_dataset=[]\n",
        "label=[]\n",
        "\n",
        "\n",
        "files = glob.glob (\"/content/drive/MyDrive/IMage/circle/*png\")\n",
        "for myFile in files:\n",
        "    image = cv2.imread(myFile)\n",
        "    image.resize(100,100,1)\n",
        "    my_dataset.append(image)\n",
        "\n",
        "print(len(my_dataset))\n",
        "\n",
        "files = glob.glob (\"/content/drive/MyDrive/IMage/rectangle/*png\")\n",
        "for myFile in files:\n",
        "    image = cv2.imread(myFile)\n",
        "    image.resize(100,100,1)\n",
        "    my_dataset.append(image)\n",
        "    \n",
        "print(len(my_dataset))\n",
        "\n",
        "files = glob.glob (\"/content/drive/MyDrive/IMage/triangle/*png\")\n",
        "for myFile in files:\n",
        "    image = cv2.imread(myFile)\n",
        "    image.resize(100,100,1)\n",
        "    my_dataset.append(image)\n",
        "\n",
        "print(len(my_dataset))\n",
        "\n"
      ],
      "metadata": {
        "id": "vGeuV-lINolp",
        "colab": {
          "base_uri": "https://localhost:8080/"
        },
        "outputId": "a4020221-c99d-4476-f934-fd14f3745694"
      },
      "execution_count": null,
      "outputs": [
        {
          "output_type": "stream",
          "name": "stdout",
          "text": [
            "1144\n",
            "2200\n",
            "3432\n"
          ]
        }
      ]
    },
    {
      "cell_type": "code",
      "source": [
        "label=[[1,0,0] for i in range(1144)]+[[0,1,0] for i in range(1056)]+[[0,0,1] for i in range(1232)]"
      ],
      "metadata": {
        "id": "g0_B5J82Nyh2"
      },
      "execution_count": null,
      "outputs": []
    },
    {
      "cell_type": "code",
      "source": [
        "Dataset=np.array(my_dataset)\n",
        "Label=np.array(label)"
      ],
      "metadata": {
        "id": "8MBbw-pQN0vw"
      },
      "execution_count": null,
      "outputs": []
    },
    {
      "cell_type": "code",
      "source": [
        "print(Dataset.shape)\n",
        "print(Label.shape)"
      ],
      "metadata": {
        "id": "RrUbgy5rOZN4",
        "colab": {
          "base_uri": "https://localhost:8080/"
        },
        "outputId": "528290a5-5b14-4ea3-d299-2a8028d78555"
      },
      "execution_count": null,
      "outputs": [
        {
          "output_type": "stream",
          "name": "stdout",
          "text": [
            "(3432, 100, 100, 1)\n",
            "(3432, 3)\n"
          ]
        }
      ]
    },
    {
      "cell_type": "code",
      "source": [
        "Dataset = Dataset.reshape((3432, 100 * 100))\n",
        "Dataset = Dataset.astype(\"float32\") / 255\n"
      ],
      "metadata": {
        "id": "au4mhJOKObWB"
      },
      "execution_count": null,
      "outputs": []
    },
    {
      "cell_type": "code",
      "source": [
        "from tensorflow import keras\n",
        "from tensorflow.keras import layers\n",
        "model = keras.Sequential([\n",
        "    layers.Dense(128, activation=\"relu\"),\n",
        "    layers.Dense(64, activation=\"relu\"),\n",
        "    layers.Dense(16, activation=\"relu\"),\n",
        "    layers.Dense(3, activation=\"softmax\"),\n",
        "])\n",
        "model.compile(optimizer=\"rmsprop\",\n",
        "              loss=\"categorical_crossentropy\",\n",
        "              metrics=[\"mse\"])\n"
      ],
      "metadata": {
        "id": "5QJvrmszOfDp"
      },
      "execution_count": null,
      "outputs": []
    },
    {
      "cell_type": "code",
      "source": [
        "model.fit(Dataset, Label, epochs=10, verbose=2)"
      ],
      "metadata": {
        "id": "zBoJ0XvMOuYc",
        "colab": {
          "base_uri": "https://localhost:8080/"
        },
        "outputId": "98b58faa-a03d-496f-deeb-adfb8d29e4f9"
      },
      "execution_count": null,
      "outputs": [
        {
          "output_type": "stream",
          "name": "stdout",
          "text": [
            "Epoch 1/10\n",
            "108/108 - 3s - loss: 1.0987 - mse: 0.2222 - 3s/epoch - 30ms/step\n",
            "Epoch 2/10\n",
            "108/108 - 0s - loss: 1.0980 - mse: 0.2221 - 326ms/epoch - 3ms/step\n",
            "Epoch 3/10\n",
            "108/108 - 0s - loss: 1.0970 - mse: 0.2219 - 322ms/epoch - 3ms/step\n",
            "Epoch 4/10\n",
            "108/108 - 0s - loss: 1.0976 - mse: 0.2220 - 325ms/epoch - 3ms/step\n",
            "Epoch 5/10\n",
            "108/108 - 0s - loss: 1.0967 - mse: 0.2218 - 338ms/epoch - 3ms/step\n",
            "Epoch 6/10\n",
            "108/108 - 0s - loss: 1.0975 - mse: 0.2220 - 333ms/epoch - 3ms/step\n",
            "Epoch 7/10\n",
            "108/108 - 0s - loss: 1.0973 - mse: 0.2219 - 324ms/epoch - 3ms/step\n",
            "Epoch 8/10\n",
            "108/108 - 0s - loss: 1.0972 - mse: 0.2219 - 330ms/epoch - 3ms/step\n",
            "Epoch 9/10\n",
            "108/108 - 0s - loss: 1.0970 - mse: 0.2219 - 335ms/epoch - 3ms/step\n",
            "Epoch 10/10\n",
            "108/108 - 0s - loss: 1.0972 - mse: 0.2219 - 336ms/epoch - 3ms/step\n"
          ]
        },
        {
          "output_type": "execute_result",
          "data": {
            "text/plain": [
              "<keras.callbacks.History at 0x7f9680305940>"
            ]
          },
          "metadata": {},
          "execution_count": 9
        }
      ]
    },
    {
      "cell_type": "code",
      "source": [
        "model.summary()"
      ],
      "metadata": {
        "id": "_FJUAMP0O2rE",
        "colab": {
          "base_uri": "https://localhost:8080/"
        },
        "outputId": "2d7bd7cc-7ea1-49ed-aa4e-cc5cd1682626"
      },
      "execution_count": null,
      "outputs": [
        {
          "output_type": "stream",
          "name": "stdout",
          "text": [
            "Model: \"sequential\"\n",
            "_________________________________________________________________\n",
            " Layer (type)                Output Shape              Param #   \n",
            "=================================================================\n",
            " dense (Dense)               (None, 128)               1280128   \n",
            "                                                                 \n",
            " dense_1 (Dense)             (None, 64)                8256      \n",
            "                                                                 \n",
            " dense_2 (Dense)             (None, 16)                1040      \n",
            "                                                                 \n",
            " dense_3 (Dense)             (None, 3)                 51        \n",
            "                                                                 \n",
            "=================================================================\n",
            "Total params: 1,289,475\n",
            "Trainable params: 1,289,475\n",
            "Non-trainable params: 0\n",
            "_________________________________________________________________\n"
          ]
        }
      ]
    },
    {
      "cell_type": "code",
      "source": [
        "test_image=[]\n",
        "files = glob.glob (\"/content/drive/MyDrive/IMage/*png\")\n",
        "for myFile in files:\n",
        "    image = cv2.imread(myFile)\n",
        "    image.resize(100,100,1)\n",
        "    test_image.append(image)"
      ],
      "metadata": {
        "id": "_MWt_pV_O9Bi"
      },
      "execution_count": null,
      "outputs": []
    },
    {
      "cell_type": "code",
      "source": [
        "len(test_image)"
      ],
      "metadata": {
        "id": "_ZckdtIiiGlh",
        "colab": {
          "base_uri": "https://localhost:8080/"
        },
        "outputId": "31f7b6e2-e46e-43f1-ea19-43afdadbb173"
      },
      "execution_count": null,
      "outputs": [
        {
          "output_type": "execute_result",
          "data": {
            "text/plain": [
              "270"
            ]
          },
          "metadata": {},
          "execution_count": 12
        }
      ]
    },
    {
      "cell_type": "code",
      "source": [
        "test_image= np.array(test_image)\n",
        "test_image = test_image.reshape((270, 100 * 100))\n",
        "test_image = test_image.astype(\"float32\") / 255\n",
        "test_image.shape"
      ],
      "metadata": {
        "id": "9Huwt8eOO_a1",
        "colab": {
          "base_uri": "https://localhost:8080/"
        },
        "outputId": "46c2105c-56d7-4bf0-b99e-5b4970e8e735"
      },
      "execution_count": null,
      "outputs": [
        {
          "output_type": "execute_result",
          "data": {
            "text/plain": [
              "(270, 10000)"
            ]
          },
          "metadata": {},
          "execution_count": 13
        }
      ]
    },
    {
      "cell_type": "code",
      "source": [
        "p=model.predict(test_image)"
      ],
      "metadata": {
        "id": "hcqYSi77PDQv",
        "colab": {
          "base_uri": "https://localhost:8080/"
        },
        "outputId": "052ebd7e-01c6-4bee-b4ea-57288eb33cbf"
      },
      "execution_count": null,
      "outputs": [
        {
          "output_type": "stream",
          "name": "stdout",
          "text": [
            "9/9 [==============================] - 0s 2ms/step\n"
          ]
        }
      ]
    },
    {
      "cell_type": "code",
      "source": [
        "print(p[31:34])\n",
        "p[31:34].argmax()"
      ],
      "metadata": {
        "id": "u1pUrp8hYSZ_",
        "colab": {
          "base_uri": "https://localhost:8080/"
        },
        "outputId": "58271d97-96ae-441d-ae17-1ba3e407b6bb"
      },
      "execution_count": null,
      "outputs": [
        {
          "output_type": "stream",
          "name": "stdout",
          "text": [
            "[[3.9237207e-06 9.0836545e-14 9.9999607e-01]\n",
            " [3.9237207e-06 9.0836545e-14 9.9999607e-01]\n",
            " [3.9237207e-06 9.0836545e-14 9.9999607e-01]]\n"
          ]
        },
        {
          "output_type": "execute_result",
          "data": {
            "text/plain": [
              "2"
            ]
          },
          "metadata": {},
          "execution_count": 15
        }
      ]
    },
    {
      "cell_type": "code",
      "source": [
        "print(p[24])\n",
        "p[24].argmax()"
      ],
      "metadata": {
        "id": "3G-nwx7Siejt",
        "colab": {
          "base_uri": "https://localhost:8080/"
        },
        "outputId": "e433d4de-db99-4c1b-cc5f-e52e24f47ecf"
      },
      "execution_count": null,
      "outputs": [
        {
          "output_type": "stream",
          "name": "stdout",
          "text": [
            "[4.2076340e-06 1.0750071e-13 9.9999583e-01]\n"
          ]
        },
        {
          "output_type": "execute_result",
          "data": {
            "text/plain": [
              "2"
            ]
          },
          "metadata": {},
          "execution_count": 16
        }
      ]
    }
  ]
}